{
 "cells": [
  {
   "cell_type": "code",
   "execution_count": 1,
   "id": "848ebd6d",
   "metadata": {},
   "outputs": [],
   "source": [
    "import scipy.constants as CONST#физические константы"
   ]
  },
  {
   "cell_type": "code",
   "execution_count": 2,
   "id": "dc5b174f",
   "metadata": {},
   "outputs": [
    {
     "data": {
      "text/plain": [
       "9.80665"
      ]
     },
     "execution_count": 2,
     "metadata": {},
     "output_type": "execute_result"
    }
   ],
   "source": [
    "CONST.g#ускорение свободного падения тела"
   ]
  },
  {
   "cell_type": "code",
   "execution_count": 3,
   "id": "e5ffc78f",
   "metadata": {},
   "outputs": [
    {
     "data": {
      "text/plain": [
       "6.6743e-11"
      ]
     },
     "execution_count": 3,
     "metadata": {},
     "output_type": "execute_result"
    }
   ],
   "source": [
    "CONST.G#гравитационная постоянная"
   ]
  },
  {
   "cell_type": "code",
   "execution_count": 4,
   "id": "fcd2ca1a",
   "metadata": {},
   "outputs": [
    {
     "data": {
      "text/plain": [
       "299792458.0"
      ]
     },
     "execution_count": 4,
     "metadata": {},
     "output_type": "execute_result"
    }
   ],
   "source": [
    "CONST.c"
   ]
  },
  {
   "cell_type": "code",
   "execution_count": 5,
   "id": "bbf582d3",
   "metadata": {},
   "outputs": [
    {
     "data": {
      "text/plain": [
       "9.1093837015e-31"
      ]
     },
     "execution_count": 5,
     "metadata": {},
     "output_type": "execute_result"
    }
   ],
   "source": [
    "CONST.m_e#масса покоя электрона"
   ]
  },
  {
   "cell_type": "code",
   "execution_count": null,
   "id": "fb40bf3c",
   "metadata": {},
   "outputs": [],
   "source": []
  }
 ],
 "metadata": {
  "kernelspec": {
   "display_name": "Python 3 (ipykernel)",
   "language": "python",
   "name": "python3"
  },
  "language_info": {
   "codemirror_mode": {
    "name": "ipython",
    "version": 3
   },
   "file_extension": ".py",
   "mimetype": "text/x-python",
   "name": "python",
   "nbconvert_exporter": "python",
   "pygments_lexer": "ipython3",
   "version": "3.8.7"
  }
 },
 "nbformat": 4,
 "nbformat_minor": 5
}
